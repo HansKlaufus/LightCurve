{
 "cells": [
  {
   "cell_type": "markdown",
   "metadata": {},
   "source": [
    "# Example for finetuning a transit lightcurve model based on measured data"
   ]
  },
  {
   "cell_type": "markdown",
   "metadata": {
    "collapsed": true
   },
   "source": [
    "This notebook creates a model based transit light curve, and tunes this light curve based on expiremental data from exoplanet HD209458b using the $\\chi^{2}$ method."
   ]
  },
  {
   "cell_type": "markdown",
   "metadata": {},
   "source": [
    "## Credits"
   ]
  },
  {
   "cell_type": "markdown",
   "metadata": {},
   "source": [
    "The methods used are described in Chapter 3 of _Transiting Exoplanets: Measuring the Properties of Planetary Systems_ by Haswell, taught at astronomy module [S382 Astrophysics](http://www.open.ac.uk/courses/modules/s382) of the the OpenUniversity, UK.\n",
    "\n",
    "The data used is based on the observations of the transiting planet system c as presented in figure 2 of \n",
    "Charbonneau, D., Brown, T. M., Latham, D. W., & Mayor, M. 2000, ApJ, 529, L45.\n",
    "It was found on [http://www.hao.ucar.edu/](http://www.hao.ucar.edu/research/stare/hd209458.html)."
   ]
  },
  {
   "cell_type": "markdown",
   "metadata": {},
   "source": [
    "## Code"
   ]
  },
  {
   "cell_type": "markdown",
   "metadata": {},
   "source": [
    "Use inline plots:"
   ]
  },
  {
   "cell_type": "code",
   "execution_count": 3,
   "metadata": {
    "collapsed": true
   },
   "outputs": [],
   "source": [
    "# %matplotlib inline"
   ]
  },
  {
   "cell_type": "markdown",
   "metadata": {},
   "source": [
    "Load libraries:"
   ]
  },
  {
   "cell_type": "code",
   "execution_count": 4,
   "metadata": {
    "collapsed": true
   },
   "outputs": [],
   "source": [
    "import math\n",
    "import numpy as np\n",
    "import pandas as pd\n",
    "\n",
    "import hkPhysicalConstants as hpc\n",
    "import hkAstronomicalConstants as hac\n",
    "import hkAstrophysics as hap\n",
    "\n",
    "import matplotlib.pyplot as plt\n",
    "import matplotlib.colors as colors\n",
    "import matplotlib.cm as cmx"
   ]
  },
  {
   "cell_type": "markdown",
   "metadata": {},
   "source": [
    "Load measurement data from file:"
   ]
  },
  {
   "cell_type": "code",
   "execution_count": 5,
   "metadata": {
    "collapsed": true
   },
   "outputs": [],
   "source": [
    "# Load measurement data\n",
    "dataframe = pd.read_csv('./Data/hd209458b.csv', comment='#', header=0, names=['time', 'flux', 'error'], delim_whitespace=True)\n",
    "dataframe['time'] = dataframe['time']*24*60*60 # Convert from fractions of a day to seconds"
   ]
  },
  {
   "cell_type": "markdown",
   "metadata": {},
   "source": [
    "Basic data for H209458b:"
   ]
  },
  {
   "cell_type": "code",
   "execution_count": 6,
   "metadata": {
    "collapsed": false
   },
   "outputs": [],
   "source": [
    "# HD 209458 b\n",
    "RS = 1.1 * hac.R_Sun # Radius host star\n",
    "RP = 1.27 * hac.R_Jup # Radius orbiting planet\n",
    "P = 3.52*24*60*60 # Period of the orbiting planet\n",
    "a = 0.0467*hac.AU # Astrocentric semi-major axis\n",
    "i = math.radians(87.1) # Inclination of the orbit with respect to observer\n",
    "s = 'HD 209458 b' # Subject text"
   ]
  },
  {
   "cell_type": "markdown",
   "metadata": {},
   "source": [
    "Define the limb darkening model to use:"
   ]
  },
  {
   "cell_type": "code",
   "execution_count": 7,
   "metadata": {
    "collapsed": true
   },
   "outputs": [],
   "source": [
    "# Use a logarithmic model\n",
    "u = 0.5 # First parameter of limb-darkening law\n",
    "v = -0.12 # Second parameter of limb darkening law\n",
    "m = 'log' # Limb-darkening model to be used"
   ]
  },
  {
   "cell_type": "markdown",
   "metadata": {},
   "source": [
    "Calculate a transit light curve, using basic data, at the measured data points:"
   ]
  },
  {
   "cell_type": "code",
   "execution_count": 8,
   "metadata": {
    "collapsed": true
   },
   "outputs": [],
   "source": [
    "# Use first estimates and calculate fit quality with measurement data\n",
    "[timeArray, areaArray, fluxArray, relativeFluxArray] = hap.CreateLightCurve(RS = RS, RP = RP, P = P, a = a, i = i, u = u, v = v, model = m, timeArray = dataframe['time'])"
   ]
  },
  {
   "cell_type": "markdown",
   "metadata": {},
   "source": [
    "Calculate $\\chi^{2}$:"
   ]
  },
  {
   "cell_type": "code",
   "execution_count": 9,
   "metadata": {
    "collapsed": true
   },
   "outputs": [],
   "source": [
    "cur_chiSquared = hap.ChiSquared(relativeFluxArray, dataframe['flux'], dataframe['error'])"
   ]
  },
  {
   "cell_type": "markdown",
   "metadata": {},
   "source": [
    "Modify the planet's **radius**, calculate a new light curve and check if $\\chi^{2}$ decreases:"
   ]
  },
  {
   "cell_type": "code",
   "execution_count": 10,
   "metadata": {
    "collapsed": true
   },
   "outputs": [],
   "source": [
    "# Start modifying the radius of the exoplanet, and check if quality of fit with measurement data increases\n",
    "prev_chiSquared = cur_chiSquared + 1\n",
    "while cur_chiSquared<prev_chiSquared:\n",
    "    prev_chiSquared = cur_chiSquared\n",
    "\n",
    "    RP *= 1.01\n",
    "    [timeArray, areaArray, fluxArray, relativeFluxArray] = hap.CreateLightCurve(RS = RS, RP = RP, P = P, a = a, i = i, u = u, v = v, model = m, timeArray = dataframe['time'])\n",
    "    cur_chiSquared = hap.ChiSquared(relativeFluxArray, dataframe['flux'], dataframe['error'])\n",
    "cur_chiSquared = prev_chiSquared\n",
    "\n",
    "prev_chiSquared = cur_chiSquared + 1\n",
    "while cur_chiSquared<prev_chiSquared:\n",
    "    prev_chiSquared = cur_chiSquared\n",
    "\n",
    "    RP /= 1.01\n",
    "    [timeArray, areaArray, fluxArray, relativeFluxArray] = hap.CreateLightCurve(RS = RS, RP = RP, P = P, a = a, i = i, u = u, v = v, model = m, timeArray = dataframe['time'])\n",
    "    cur_chiSquared = hap.ChiSquared(relativeFluxArray, dataframe['flux'], dataframe['error'])\n",
    "cur_chiSquared = prev_chiSquared"
   ]
  },
  {
   "cell_type": "markdown",
   "metadata": {},
   "source": [
    "Modify the orbit's **inclination**, calculate a new light curve and check if $\\chi^{2}$ decreases:"
   ]
  },
  {
   "cell_type": "code",
   "execution_count": 11,
   "metadata": {
    "collapsed": true
   },
   "outputs": [],
   "source": [
    "# Start modifying the inclination of the exoplanet's orbit, and check if quality of fit with measurement data increases\n",
    "prev_chiSquared = cur_chiSquared + 1\n",
    "while cur_chiSquared<prev_chiSquared:\n",
    "    prev_chiSquared = cur_chiSquared\n",
    "\n",
    "    i *= 1.01\n",
    "    [timeArray, areaArray, fluxArray, relativeFluxArray] = hap.CreateLightCurve(RS = RS, RP = RP, P = P, a = a, i = i, u = u, v = v, model = m, timeArray = dataframe['time'])\n",
    "    cur_chiSquared = hap.ChiSquared(relativeFluxArray, dataframe['flux'], dataframe['error'])\n",
    "cur_chiSquared = prev_chiSquared\n",
    "\n",
    "prev_chiSquared = cur_chiSquared + 1\n",
    "while cur_chiSquared<prev_chiSquared:\n",
    "    prev_chiSquared = cur_chiSquared\n",
    "\n",
    "    i /= 1.01\n",
    "    [timeArray, areaArray, fluxArray, relativeFluxArray] = hap.CreateLightCurve(RS = RS, RP = RP, P = P, a = a, i = i, u = u, v = v, model = m, timeArray = dataframe['time'])\n",
    "    cur_chiSquared = hap.ChiSquared(relativeFluxArray, dataframe['flux'], dataframe['error'])\n",
    "cur_chiSquared = prev_chiSquared"
   ]
  },
  {
   "cell_type": "markdown",
   "metadata": {},
   "source": [
    "Print the final parameters:"
   ]
  },
  {
   "cell_type": "code",
   "execution_count": 12,
   "metadata": {
    "collapsed": false
   },
   "outputs": [
    {
     "name": "stdout",
     "output_type": "stream",
     "text": [
      "Chi^2 = 121; u = 0.5; v = -0.12; RP = 1.39 * R_Jup; i = 87.1\n"
     ]
    }
   ],
   "source": [
    "print ('Chi^2 = {0:.3G}; u = {1:.3G}; v = {2:.3G}; RP = {3:.3G} * R_Jup; i = {4:.3G}'.format(cur_chiSquared, u, v, RP/hac.R_Jup, math.degrees(i)))"
   ]
  },
  {
   "cell_type": "markdown",
   "metadata": {},
   "source": [
    "Using these parameters, create a new **continuous** lightcurve (rather than only at the measured data points):"
   ]
  },
  {
   "cell_type": "code",
   "execution_count": 13,
   "metadata": {
    "collapsed": true
   },
   "outputs": [],
   "source": [
    "[timeArray, areaArray, fluxArray, relativeFluxArray] = hap.CreateLightCurve(RS = RS, RP = RP, P = P, a = a, i = i, u = u, v = v, model = m)"
   ]
  },
  {
   "cell_type": "markdown",
   "metadata": {},
   "source": [
    "Plot the results:"
   ]
  },
  {
   "cell_type": "code",
   "execution_count": 14,
   "metadata": {
    "collapsed": false
   },
   "outputs": [],
   "source": [
    "# Plot values\n",
    "x_min = min(timeArray)/(60*60*24)\n",
    "x_max = max(timeArray)/(60*60*24)\n",
    "\n",
    "fig = plt.figure()\n",
    "\n",
    "# Plot a chart with the relative flux\n",
    "min_y = []\n",
    "min_y.append(min(relativeFluxArray))\n",
    "min_y.append(min(dataframe['flux']) - max(dataframe['error']))\n",
    "y_min = min(min_y)\n",
    "\n",
    "max_y = []\n",
    "max_y.append(max(relativeFluxArray))\n",
    "max_y.append(max(dataframe['flux']) + max(dataframe['error']))\n",
    "y_max = max(max_y)\n",
    "\n",
    "y_min -= 0.1*(y_max-y_min)\n",
    "y_max += 0.1*(y_max-y_min)\n",
    "\n",
    "ax0 = fig.add_subplot(1, 1, 1)\n",
    "\n",
    "ax0.plot(timeArray/(60*60*24), relativeFluxArray, color='blue', linewidth = 1)\n",
    "ax0.errorbar(dataframe['time']/(60*60*24), dataframe['flux'], yerr=dataframe['error'], color='black', fmt='.')\n",
    "# ax0.errorbar(dataframe['time']/(60*60*24), dataframe['flux'], yerr=dataframe['error'], color='black', fmt='-.')\n",
    "\n",
    "ax0.set_xlim(x_min, x_max)\n",
    "ax0.set_ylim(y_min, y_max)\n",
    "\n",
    "ax0.set_xlabel('time/days')\n",
    "ax0.set_ylabel('Relative flux')\n",
    "\n",
    "plt.xlabel('time/days')\n",
    "plt.show()"
   ]
  }
 ],
 "metadata": {
  "kernelspec": {
   "display_name": "Python 3",
   "language": "python",
   "name": "python3"
  },
  "language_info": {
   "codemirror_mode": {
    "name": "ipython",
    "version": 3
   },
   "file_extension": ".py",
   "mimetype": "text/x-python",
   "name": "python",
   "nbconvert_exporter": "python",
   "pygments_lexer": "ipython3",
   "version": "3.4.3"
  }
 },
 "nbformat": 4,
 "nbformat_minor": 0
}
